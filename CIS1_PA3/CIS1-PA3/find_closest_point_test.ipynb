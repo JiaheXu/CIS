{
 "cells": [
  {
   "cell_type": "code",
   "execution_count": 1,
   "id": "c7f1bd68",
   "metadata": {},
   "outputs": [],
   "source": [
    "import numpy as np\n",
    "import sys, os\n",
    "import time\n",
    "import glob\n",
    "\n",
    "from numpy.lib.function_base import diff\n",
    "from registration_3d import *\n",
    "from cartesian import *\n",
    "from collections import namedtuple\n",
    "from operator import itemgetter\n",
    "from pprint import pformat\n",
    "import matplotlib.pyplot as plt\n",
    "from read_files import *\n",
    "import argparse\n",
    "from KD_tree import *\n",
    "from ICPmatching import *\n",
    "import csv"
   ]
  },
  {
   "cell_type": "code",
   "execution_count": 7,
   "id": "bb56d23f",
   "metadata": {},
   "outputs": [],
   "source": [
    "p = np.array([1,0,0]).astype(float)\n",
    "q = np.array([0,1,0]).astype(float)\n",
    "r = np.array([0,0,1]).astype(float)"
   ]
  },
  {
   "cell_type": "code",
   "execution_count": 19,
   "id": "40f24ef8",
   "metadata": {},
   "outputs": [
    {
     "name": "stdout",
     "output_type": "stream",
     "text": [
      "pos:  [0.  0.5 0.5]\n",
      "dist:  0.0\n",
      "pos:  [0.33333333 0.33333333 0.33333333]\n",
      "dist:  0.0\n",
      "pos:  [0.5 0.5 0. ]\n",
      "dist:  0.0\n"
     ]
    }
   ],
   "source": [
    "a = np.array([0,1,1]).astype(float)\n",
    "# expext (0, 0.5,0.5)  dist:sqrt(2.0)/2\n",
    "print(\"pos: \",FindClosestPoint( a, p, q, r ))\n",
    "print(\"dist: \", np.linalg.norm( a- FindClosestPoint( a, p, q, r ) ) - np.sqrt(2.0)/2 )\n",
    "\n",
    "a = np.array([1,1,1]).astype(float)\n",
    "# expext (1/3, 1/3, 1/3)  dist:sqrt(4/3)\n",
    "print(\"pos: \",FindClosestPoint( a, p, q, r ))\n",
    "print(\"dist: \",  np.linalg.norm( a- FindClosestPoint( a, p, q, r ) ) - np.sqrt(4.0/3) )\n",
    "\n",
    "a = np.array([1,1,0]).astype(float)\n",
    "# expext (1/2 , 1/2 ,0)  dist:sqrt(2.0)/2\n",
    "print(\"pos: \",FindClosestPoint( a, p, q, r ))\n",
    "print(\"dist: \",  np.linalg.norm( a- FindClosestPoint( a, p, q, r ) ) - np.sqrt(2.0)/2 )"
   ]
  },
  {
   "cell_type": "code",
   "execution_count": 20,
   "id": "bc15f58d",
   "metadata": {},
   "outputs": [],
   "source": [
    "p = np.array([0,0,0]).astype(float)\n",
    "q = np.array([2,0,0]).astype(float)\n",
    "r = np.array([1,np.sqrt(3.0),0]).astype(float)"
   ]
  },
  {
   "cell_type": "code",
   "execution_count": 24,
   "id": "ebd8a261",
   "metadata": {},
   "outputs": [
    {
     "name": "stdout",
     "output_type": "stream",
     "text": [
      "pos:  [0. 0. 0.]\n",
      "dist:  0.0\n",
      "pos:  [1.5669873 0.75      0.       ]\n",
      "1.5669872981077808 0.75 0\n",
      "dist:  0.0\n",
      "pos:  [1. 1. 0.]\n",
      "dist:  -0.7071067811865472\n"
     ]
    }
   ],
   "source": [
    "a = np.array([0,0,1]).astype(float)\n",
    "# expext (0, 0, 0)  dist:1\n",
    "print(\"pos: \",FindClosestPoint( a, p, q, r ))\n",
    "print(\"dist: \", np.linalg.norm( a- FindClosestPoint( a, p, q, r ) ) - 1.0 )\n",
    "\n",
    "a = np.array([2,1,1]).astype(float)\n",
    "# expext ( 2 - np.sqrt(3)/4, 3.0/4, 0)  dist: np.sqrt(5.0)/2\n",
    "print(\"pos: \",FindClosestPoint( a, p, q, r ))\n",
    "print( 2 - np.sqrt(3)/4, 3.0/4 , 0)\n",
    "print(\"dist: \",  np.linalg.norm( a- FindClosestPoint( a, p, q, r ) ) - np.sqrt(5.0)/2 )\n",
    "\n",
    "a = np.array([2,1,-1]).astype(float)\n",
    "# expext ( 2 - np.sqrt(3)/4, 3.0/4, 0)  dist: np.sqrt(5.0)/2\n",
    "print(\"pos: \",FindClosestPoint( a, p, q, r ))\n",
    "print( 2 - np.sqrt(3)/4, 3.0/4 , 0)\n",
    "print(\"dist: \",  np.linalg.norm( a- FindClosestPoint( a, p, q, r ) ) - np.sqrt(5.0)/2 )"
   ]
  },
  {
   "cell_type": "code",
   "execution_count": null,
   "id": "2f2b39df",
   "metadata": {},
   "outputs": [],
   "source": []
  }
 ],
 "metadata": {
  "kernelspec": {
   "display_name": "Python 3",
   "language": "python",
   "name": "python3"
  },
  "language_info": {
   "codemirror_mode": {
    "name": "ipython",
    "version": 3
   },
   "file_extension": ".py",
   "mimetype": "text/x-python",
   "name": "python",
   "nbconvert_exporter": "python",
   "pygments_lexer": "ipython3",
   "version": "3.8.8"
  }
 },
 "nbformat": 4,
 "nbformat_minor": 5
}
