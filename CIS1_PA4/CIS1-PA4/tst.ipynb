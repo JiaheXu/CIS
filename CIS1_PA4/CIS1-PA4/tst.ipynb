{
 "cells": [
  {
   "cell_type": "code",
   "execution_count": 1,
   "id": "cc6512da",
   "metadata": {},
   "outputs": [],
   "source": [
    "import numpy as np\n",
    "import sys, os\n",
    "import time\n",
    "import glob\n",
    "from registration_3d import *\n",
    "from cartesian import *\n",
    "from collections import namedtuple\n",
    "from operator import itemgetter\n",
    "from pprint import pformat\n",
    "import matplotlib.pyplot as plt"
   ]
  },
  {
   "cell_type": "code",
   "execution_count": 2,
   "id": "effcf47b",
   "metadata": {},
   "outputs": [],
   "source": [
    "def read_mesh( data_dir , filename ):\n",
    "# get the coordinate of points\n",
    "# get the vertices of each triangle\n",
    "    mesh = glob.glob( data_dir + filename )\n",
    "    mesh_file = open( mesh[0] , \"r\")\n",
    "    mesh_lines = mesh_file.read().splitlines()\n",
    "    mesh_data = []\n",
    "    \n",
    "    for num in range(len(mesh_lines)):\n",
    "        mesh_data.append( mesh_lines[num].split(' ') )\n",
    "        for i in range(len( mesh_data[-1])):\n",
    "            mesh_data[-1][i] = mesh_data[-1][i].strip() # to remove space and tabs\n",
    "    Np = int(mesh_data[0][0])\n",
    "    mesh_data = mesh_data[1:]\n",
    "    \n",
    "    mesh_points = np.asarray(mesh_data[0:Np]).astype(float)\n",
    "    mesh_data = mesh_data[Np:]\n",
    "    \n",
    "    Ntriangles = int(mesh_data[0][0])\n",
    "    mesh_data = mesh_data[1:]\n",
    "    mesh_vertices = np.asarray(mesh_data[0:Ntriangles]).astype(int)\n",
    "    mesh_data = mesh_data[Ntriangles:]\n",
    "    \n",
    "    return Np,mesh_points,Ntriangles,mesh_vertices"
   ]
  },
  {
   "cell_type": "code",
   "execution_count": 3,
   "id": "12404f93",
   "metadata": {},
   "outputs": [],
   "source": [
    "def read_body( data_dir , filename ):\n",
    "\n",
    "# get the markers' positions and tip of a body\n",
    "    body = glob.glob( data_dir + filename )\n",
    "    body_file = open( body[0] , \"r\")\n",
    "    body_lines = body_file.read().splitlines()\n",
    "    body_data = []\n",
    "    \n",
    "    for num in range(len(body_lines)):\n",
    "        body_data.append( body_lines[num].split() )\n",
    "        for i in range(len( body_data[-1])):\n",
    "            body_data[-1][i] = body_data[-1][i].strip() # to remove space and tabs\n",
    "    Np = int(body_data[0][0])\n",
    "    body_data = body_data[1:]\n",
    "    \n",
    "    body_points = np.asarray(body_data[0:Np]).astype(float)\n",
    "    body_data = body_data[Np:]\n",
    "    \n",
    "    tip = body_data[0]\n",
    "    tip = np.array(tip).astype(float)\n",
    "    tip = tip.reshape(1,-1)\n",
    "    return Np,body_points,tip\n"
   ]
  },
  {
   "cell_type": "code",
   "execution_count": 4,
   "id": "bd83dc92",
   "metadata": {},
   "outputs": [],
   "source": [
    "def read_sample( data_dir , filename , N_Ap , N_Bp ):\n",
    "# get the markers' positions and tip of a body\n",
    "# N_Ap is the number of marker in A\n",
    "# N_Bp is the number of marker in B\n",
    "    sample = glob.glob( data_dir + filename )\n",
    "    sample_file = open( sample[0] , \"r\")\n",
    "    sample_lines = sample_file.read().splitlines()\n",
    "    sample_data = []\n",
    "    \n",
    "    for num in range(len(sample_lines)):\n",
    "        sample_data.append( sample_lines[num].split(',') )\n",
    "        for i in range(len( sample_data[-1])):\n",
    "            sample_data[-1][i] = sample_data[-1][i].strip() # to remove space and tabs\n",
    "    Np = int(sample_data[0][0])\n",
    "    N_sample = int(sample_data[0][1])\n",
    "    N_Dp = Np - N_Ap - N_Bp\n",
    "    sample_data = sample_data[1:]\n",
    "    sample_data = np.array(sample_data).astype(float)\n",
    "    A_frames=[]\n",
    "    B_frames=[]\n",
    "    \n",
    "    for i in range(N_sample):\n",
    "        A_sample_points = np.asarray( sample_data[ i*Np : i*Np + N_Ap ] ).astype( float )\n",
    "        A_frames.append( A_sample_points )\n",
    "        \n",
    "        B_sample_points = np.asarray( sample_data[ i*Np + N_Ap :  i*Np + N_Ap + N_Bp] ).astype( float )\n",
    "        B_frames.append( B_sample_points )\n",
    "\n",
    "    A_frames = np.array(A_frames).astype(float)\n",
    "    B_frames = np.array(B_frames).astype(float)\n",
    "        \n",
    "    return A_frames , B_frames"
   ]
  },
  {
   "cell_type": "code",
   "execution_count": 5,
   "id": "279c0536",
   "metadata": {},
   "outputs": [],
   "source": [
    "def get_d_k(A_frames, A_points, A_tip, B_frames, B_points, B_tip):\n",
    "    \n",
    "    d_k = []\n",
    "    for i in range(len(A_frames)):\n",
    "        F_AK = registration_3d(A_points , A_frames[i])\n",
    "        F_BK = registration_3d(B_points , B_frames[i])\n",
    "        # F_AK is the transformation from A tool frame to optical frame\n",
    "        # F_AK is the transformation from B tool frame to optical frame\n",
    "        d_k_i = points_transform( Fi(F_BK) @ F_AK , A_tip)\n",
    "        d_k.append(d_k_i)\n",
    "    d_k = np.array(d_k).astype(float)\n",
    "    d_k = d_k.reshape(-1,3)\n",
    "    return d_k"
   ]
  },
  {
   "cell_type": "code",
   "execution_count": 6,
   "id": "9a671736",
   "metadata": {},
   "outputs": [],
   "source": [
    "def ProjectOnSegment(c,p,q):\n",
    "# c is the point we want to find corresponding closest point\n",
    "# p q are the start and the and of a segment\n",
    "\n",
    "#according to https://ciis.lcsr.jhu.edu/lib/exe/fetch.php?media=courses:455-655:lectures:finding_point-pairs.pdf\n",
    "# page 7\n",
    "    c = np.array(c).astype(float)\n",
    "    p = np.array(p).astype(float)\n",
    "    q = np.array(q).astype(float)\n",
    "    #print(np.dot( c-p , q-p ))\n",
    "    #print(np.dot( q-p ,q-p ))\n",
    "    Lambda = np.dot( c-p , q-p ) / np.dot( q-p ,q-p )\n",
    "    Lambda = max(0, min(Lambda, 1))\n",
    "    c_star = p + Lambda*(q-p)\n",
    "    return c_star"
   ]
  },
  {
   "cell_type": "code",
   "execution_count": 7,
   "id": "99ec1334",
   "metadata": {},
   "outputs": [],
   "source": [
    "def FindClosestPoint( a, p, q, r ):\n",
    "    \n",
    "    A = np.zeros((3,2),dtype = float )\n",
    "    \n",
    "    for i in range(3):\n",
    "        A[i][0] = q[i] - p[i]\n",
    "        A[i][1] = r[i] - p[i]\n",
    "        \n",
    "    B = a - p\n",
    "    B = B.reshape(-1,1)\n",
    "    X = np.linalg.lstsq(A, B, rcond=None)[0]\n",
    "    \n",
    "    Lambda = X[0]\n",
    "    Miu = X[1]\n",
    "\n",
    "    a = p + Lambda * (q - p) + Miu * (r - p)\n",
    "    P_closest = np.zeros(3)\n",
    "\n",
    "    if Lambda >= 0 and Miu>=0 and Lambda+Miu<=1:\n",
    "        P_closest = a\n",
    "    elif Lambda < 0:\n",
    "        P_closest = ProjectOnSegment(a, r, p)\n",
    "    elif Miu < 0:\n",
    "        P_closest = ProjectOnSegment(a, p, q)\n",
    "    elif Lambda + Miu > 1:\n",
    "        P_closest = ProjectOnSegment(a, q, r)\n",
    "\n",
    "    return P_closest\n"
   ]
  },
  {
   "cell_type": "code",
   "execution_count": 8,
   "id": "80fcdfe0",
   "metadata": {},
   "outputs": [],
   "source": [
    "def point_to_triangle(s_k_i , j):\n",
    "    p = mesh_points[mesh_vertices[j][0]] \n",
    "    q = mesh_points[mesh_vertices[j][1]]\n",
    "    r = mesh_points[mesh_vertices[j][2]] \n",
    "            \n",
    "    tmp = FindClosestPoint( s_k_i, p, q, r )\n",
    "    \n",
    "    return tmp"
   ]
  },
  {
   "cell_type": "code",
   "execution_count": 9,
   "id": "4823c561",
   "metadata": {},
   "outputs": [],
   "source": [
    "def bruteforce_matching(s_k , Np , mesh_points , Ntriangles , mesh_vertices ):\n",
    "    Ns = s_k.shape[0]\n",
    "    \n",
    "    closest_p = []\n",
    "    for i in range(Ns):\n",
    "        min_dist = np.finfo(np.float32).max\n",
    "        P_closest = []\n",
    "        for j in range(Ntriangles):\n",
    "\n",
    "            tmp = point_to_triangle(s_k[i] , j)\n",
    "\n",
    "            dist = np.linalg.norm(s_k[i] - tmp)\n",
    "            if min_dist > dist:\n",
    "                min_dist = dist\n",
    "                P_closest = tmp\n",
    "        closest_p.append(P_closest)\n",
    "                \n",
    "    return closest_p"
   ]
  },
  {
   "cell_type": "code",
   "execution_count": 10,
   "id": "dc774a6c",
   "metadata": {},
   "outputs": [],
   "source": [
    "def get_rectangles(Np , mesh_points , Ntriangles , mesh_vertices):\n",
    "    \n",
    "    rectangles = np.zeros( (Ntriangles,7) ,dtype=float)\n",
    "    \n",
    "    for i in range(Ntriangles):\n",
    "        p = mesh_points[mesh_vertices[i][0]] \n",
    "        q = mesh_points[mesh_vertices[i][1]]\n",
    "        r = mesh_points[mesh_vertices[i][2]]\n",
    "        rectangles[i,6] = i\n",
    "        for j in range(3):\n",
    "            rectangles[i,j] = min( p[j],q[j],r[j])\n",
    "        for j in range(3):\n",
    "            rectangles[i,j+3] = max( p[j],q[j],r[j])\n",
    "        #print(rectangle[i,0:3] - rectangle[i,3:6])\n",
    "        \n",
    "    return rectangles"
   ]
  },
  {
   "cell_type": "code",
   "execution_count": 11,
   "id": "d1291a30",
   "metadata": {},
   "outputs": [],
   "source": [
    "class KD_tree():\n",
    "    def __init__(self, Np , mesh_points , Ntriangles , mesh_vertices , rectangles):\n",
    "        \n",
    "        self.Np = Np\n",
    "        self.mesh_points = mesh_points\n",
    "        self.mesh_vertices = mesh_vertices\n",
    "        self.Ntriangles =  Ntriangles\n",
    "        self.rectangles = rectangles\n",
    "        self.num = np.zeros(Ntriangles+10).astype(int)\n",
    "        #self.D = mesh_points.shape[1]\n",
    "        self.D = 3\n",
    "        \n",
    "        self.ls = np.zeros( Ntriangles+10 )\n",
    "        self.rs = np.zeros( Ntriangles+10 )\n",
    "        \n",
    "        #self.points = rectangles\n",
    "        self.Rectangle = np.zeros( (Ntriangles+10,6) )\n",
    "        \n",
    "        self.tree = self.build(rectangles.tolist(), 1 , Ntriangles , depth =0 )\n",
    "        self.nearest_point = []\n",
    "        self.nearest_dist = 0\n",
    "        \n",
    "    def pushup(self, root):\n",
    "        \n",
    "        ls = self.ls[root]\n",
    "        rs = self.rs[root]\n",
    "        if(ls!=0):\n",
    "            for i in range(3):\n",
    "                self.Rectangle[root,i] = min(self.Rectangle[root,i],self.Rectangle[int(ls),i])\n",
    "                self.Rectangle[root,i+3] = max(self.Rectangle[root,i+3],self.Rectangle[int(ls),i+3]) \n",
    "        if(rs!=0):\n",
    "            for i in range(3):\n",
    "                self.Rectangle[root,i] = min(self.Rectangle[root,i],self.Rectangle[int(rs),i])\n",
    "                self.Rectangle[root,i+3] = max(self.Rectangle[root,i+3],self.Rectangle[int(rs),i+3]) \n",
    "    \n",
    "    def point_to_cube(self, start_point, root):\n",
    "        dis = np.zeros(3)\n",
    "        for i in range(self.D):\n",
    "            if(start_point[i] < self.Rectangle[root,i]):\n",
    "                dis[i] = self.Rectangle[root,i] - start_point[i]\n",
    "            if(start_point[i] > self.Rectangle[root,i+3]):\n",
    "                dis[i] = start_point[i] - self.Rectangle[root,i+3]\n",
    "        dist = np.linalg.norm(dis)\n",
    "        return dist\n",
    "    \n",
    "    def find(self, start_point , left,right,depth):\n",
    "        if(left>right):\n",
    "            return np.finfo(np.float32).max\n",
    "        middle = ((left + right) // 2) \n",
    "        \n",
    "        dist = self.point_to_cube(start_point , middle)\n",
    "        if(dist > self.nearest_dist):\n",
    "            return\n",
    "        \n",
    "        tmp = point_to_triangle(start_point , self.num[middle])\n",
    "        dist = np.linalg.norm(start_point - tmp)\n",
    "        \n",
    "        if( dist < self.nearest_dist):\n",
    "            self.nearest_dist = dist\n",
    "            self.nearest_point = tmp\n",
    "        \n",
    "        self.find( start_point , left , middle-1 ,depth)\n",
    "        self.find( start_point , middle+1 , right,depth)\n",
    "        \n",
    "    def FindClosestPoint(self, start_point ):\n",
    "        \n",
    "        self.nearest_dist =  np.finfo(np.float32).max\n",
    "    \n",
    "        self.find( start_point , 1 , self.Ntriangles , depth=0 ) \n",
    "        \n",
    "        return self.nearest_point\n",
    "        \n",
    "    def build( self, points, left,right,depth ):\n",
    "        if(left>right):\n",
    "            return 0\n",
    "        \n",
    "        axis = depth % self.D\n",
    "\n",
    "        points.sort(key=itemgetter(axis))\n",
    "        middle = ((left + right) // 2) \n",
    "        #print(\"points: \",len(points))\n",
    "        #print(\"middle: \",middle)\n",
    "        self.Rectangle[middle] = np.array(points[ middle - left ][0:6]).astype(float)\n",
    "        self.num[middle] =  points[middle - left ][6]\n",
    "        \n",
    "        self.ls[ middle ] = self.build(points[:middle- left] ,left , middle-1 , depth+1 )\n",
    "        self.rs[ middle ] = self.build(points[middle-left+1:]   ,middle+1, right , depth+1 )\n",
    "        self.pushup(middle)\n",
    "        \n",
    "        return middle\n",
    "\n",
    "   "
   ]
  },
  {
   "cell_type": "code",
   "execution_count": 12,
   "id": "da661881",
   "metadata": {},
   "outputs": [],
   "source": [
    "def get_difference( A , B):\n",
    "\n",
    "    dist = np.zeros(( A.shape[0],1))\n",
    "    for i in range(A.shape[1]):\n",
    "        dist[i] = np.linalg.norm( A[i,:] - B[i,:])\n",
    "\n",
    "    return dist"
   ]
  },
  {
   "cell_type": "code",
   "execution_count": 13,
   "id": "5d3b0325",
   "metadata": {},
   "outputs": [],
   "source": [
    "def kd_matching(s_k , Np , mesh_points , Ntriangles , mesh_vertices ):\n",
    "    \n",
    "    rectangles = get_rectangles(Np , mesh_points , Ntriangles , mesh_vertices)\n",
    "\n",
    "    kdtree = KD_tree(Np , mesh_points , Ntriangles , mesh_vertices , rectangles)\n",
    "    \n",
    "    Ns = s_k.shape[0]\n",
    "    \n",
    "    closest_p = []\n",
    "    for i in range(Ns):\n",
    "        min_dist = np.finfo(np.float32).max\n",
    "        tmp = kdtree.FindClosestPoint( s_k[i] )\n",
    "        closest_p.append(tmp)\n",
    "    return closest_p"
   ]
  },
  {
   "cell_type": "code",
   "execution_count": 14,
   "id": "7c7cd909",
   "metadata": {},
   "outputs": [],
   "source": [
    "def ICP(d_k , Np , mesh_points , Ntriangles , mesh_vertices ,brute_force = False ):\n",
    "    \n",
    "    F_reg = np.eye(4)\n",
    "    \n",
    "    rectangles = get_rectangles(Np , mesh_points , Ntriangles , mesh_vertices)\n",
    "    if(brute_force == False):\n",
    "        kdtree = KD_tree(Np , mesh_points , Ntriangles , mesh_vertices , rectangles)\n",
    "    \n",
    "    Ns = d_k.shape[0]\n",
    "    \n",
    "    closest_p = []\n",
    "    iteration = 40\n",
    "    c_k = []\n",
    "    old_pts = []\n",
    "    \n",
    "    closest_p = []\n",
    "\n",
    "    F_reg_lst = []\n",
    "    \n",
    "    for i in range(iteration):\n",
    "        # F_reg_lst.append(F_reg)\n",
    "        s_k_i = points_transform(F_reg , d_k) \n",
    "        #c_k = icpm.ICPmatch(s_i, vCoords, vIndices, tree=tree, oldpts=old_pts, usetree=True)\n",
    "        closest_p = []\n",
    "        if(brute_force):\n",
    "            for j in range(Ns):\n",
    "                min_dist = np.finfo(np.float32).max\n",
    "                P_closest = []\n",
    "                for k in range(Ntriangles):\n",
    "\n",
    "                    tmp = point_to_triangle(s_k_i[j] , k )\n",
    "\n",
    "                    dist = np.linalg.norm(s_k_i[j] - tmp)\n",
    "                    if min_dist > dist:\n",
    "                        min_dist = dist\n",
    "                        P_closest = tmp\n",
    "                closest_p.append(P_closest)\n",
    "       \n",
    "            \n",
    "        if(brute_force==False):\n",
    "            for j in range(Ns):\n",
    "                min_dist = np.finfo(np.float32).max\n",
    "                tmp = kdtree.FindClosestPoint( s_k_i[j] )\n",
    "                closest_p.append(tmp)\n",
    "\n",
    "            \n",
    "        c_k = np.array(closest_p)\n",
    "        # Update guess\n",
    "        old_pts = c_k\n",
    "\n",
    "        deltaF_reg = registration_3d( s_k_i , c_k)\n",
    "\n",
    "        F_regNew = deltaF_reg @ F_reg\n",
    "        diff = np.sum(np.abs(F_reg - F_regNew))\n",
    "        F_reg_lst.append(diff)\n",
    "        if np.sum(np.abs(F_reg - F_regNew)) < 1e-4:\n",
    "            return c_k , F_regNew, F_reg_lst\n",
    "\n",
    "        F_reg = F_regNew\n",
    "        \n",
    "\n",
    "\n",
    "            \n",
    "    return c_k , F_reg, F_reg_lst"
   ]
  },
  {
   "cell_type": "code",
   "execution_count": 15,
   "id": "0de19a22",
   "metadata": {},
   "outputs": [],
   "source": [
    "data_dir = 'DATA/'\n",
    "letters = ['A', 'B', 'C', 'D', 'E', 'F', 'G', 'H', 'J', 'K']\n",
    "runtype = ['Debug' ,'Debug' ,'Debug' ,'Debug' ,'Debug' ,'Debug' ,'Unknown','Unknown','Unknown','Unknown']\n",
    "pa = \"PA4\"\n",
    "filename = '/Problem4MeshFile.sur'"
   ]
  },
  {
   "cell_type": "code",
   "execution_count": 16,
   "id": "297daf5a",
   "metadata": {
    "scrolled": false
   },
   "outputs": [
    {
     "name": "stdout",
     "output_type": "stream",
     "text": [
      "/PA4-E-Debug\n"
     ]
    }
   ],
   "source": [
    "# kd_time_lst = []\n",
    "F_reg_e = []\n",
    "if True:\n",
    "    num=4\n",
    "#for num in range(1):\n",
    "    data_type = num\n",
    "    letter = num\n",
    "    Np,mesh_points,Ntriangles,mesh_vertices = read_mesh(data_dir , '/Problem4MeshFile.sur')\n",
    "    N_Ap,A_points,A_tip = read_body(data_dir , '/Problem4-BodyA.txt')\n",
    "    N_Bp,B_points,B_tip = read_body(data_dir , '/Problem4-BodyB.txt')\n",
    "    \n",
    "    sample_dir = '/PA4-' + letters[num] + '-' + runtype[num] + '-SampleReadingsTest.txt'\n",
    "    A_frames , B_frames = read_sample(data_dir, sample_dir, N_Ap , N_Bp)\n",
    "    # start = time.time()\n",
    "    d_k = get_d_k(A_frames, A_points, A_tip, B_frames, B_points, B_tip)\n",
    "    F_reg = np.eye(4)\n",
    "    # print(\"d_k points : \",d_k.shape[0])\n",
    "    c_k, F_reg, F_reg_e = ICP(d_k , Np , mesh_points , Ntriangles , mesh_vertices )\n",
    "    s_k = points_transform(F_reg , d_k) \n",
    "    \n",
    "    difference = get_difference(s_k , c_k)\n",
    "    print( '/PA4-' + letters[num] + '-' + runtype[num])\n",
    "    # kd_time = time.time() - start\n",
    "    # kd_time_lst.append(kd_time)\n",
    "    # print(np.sum(difference))\n",
    "    # for i in range(s_k.shape[0]):\n",
    "    #     print( np.round(s_k[i],2), ' ' ,np.round(c_k[i],2) )"
   ]
  },
  {
   "cell_type": "code",
   "execution_count": 17,
   "id": "d3961fb0",
   "metadata": {},
   "outputs": [
    {
     "name": "stdout",
     "output_type": "stream",
     "text": [
      "d_k points :  200\n",
      "/PA4-F-Debug\n"
     ]
    }
   ],
   "source": [
    "# kd_time_lst = []\n",
    "F_reg_f = []\n",
    "if True:\n",
    "    num=5\n",
    "#for num in range(1):\n",
    "    data_type = num\n",
    "    letter = num\n",
    "    Np,mesh_points,Ntriangles,mesh_vertices = read_mesh(data_dir , '/Problem4MeshFile.sur')\n",
    "    N_Ap,A_points,A_tip = read_body(data_dir , '/Problem4-BodyA.txt')\n",
    "    N_Bp,B_points,B_tip = read_body(data_dir , '/Problem4-BodyB.txt')\n",
    "    \n",
    "    sample_dir = '/PA4-' + letters[num] + '-' + runtype[num] + '-SampleReadingsTest.txt'\n",
    "    A_frames , B_frames = read_sample(data_dir, sample_dir, N_Ap , N_Bp)\n",
    "    # start = time.time()\n",
    "    d_k = get_d_k(A_frames, A_points, A_tip, B_frames, B_points, B_tip)\n",
    "    F_reg = np.eye(4)\n",
    "    print(\"d_k points : \",d_k.shape[0])\n",
    "    c_k, F_reg, F_reg_f = ICP(d_k , Np , mesh_points , Ntriangles , mesh_vertices )\n",
    "    s_k = points_transform(F_reg , d_k) \n",
    "    \n",
    "    difference = get_difference(s_k , c_k)\n",
    "    print( '/PA4-' + letters[num] + '-' + runtype[num])\n",
    "    # kd_time = time.time() - start\n",
    "    # kd_time_lst.append(kd_time)\n",
    "    # print(np.sum(difference))\n",
    "    # for i in range(s_k.shape[0]):\n",
    "    #     print( np.round(s_k[i],2), ' ' ,np.round(c_k[i],2) )"
   ]
  },
  {
   "cell_type": "code",
   "execution_count": 18,
   "id": "43d20da6",
   "metadata": {},
   "outputs": [
    {
     "data": {
      "text/plain": [
       "(40,)"
      ]
     },
     "execution_count": 18,
     "metadata": {},
     "output_type": "execute_result"
    }
   ],
   "source": [
    "np.array(F_reg_e).shape"
   ]
  },
  {
   "cell_type": "code",
   "execution_count": 21,
   "id": "94980672",
   "metadata": {},
   "outputs": [
    {
     "data": {
      "text/plain": [
       "<function matplotlib.pyplot.show(close=None, block=None)>"
      ]
     },
     "execution_count": 21,
     "metadata": {},
     "output_type": "execute_result"
    },
    {
     "data": {
      "image/png": "[encoded data removed]",
      "text/plain": [
       "<Figure size 432x288 with 1 Axes>"
      ]
     },
     "metadata": {
      "needs_background": "light"
     },
     "output_type": "display_data"
    }
   ],
   "source": [
    "plt.plot(F_reg_e)\n",
    "\n",
    "# plt.plot(letters, kd_time_lst, label=\"Matching using KD tree\")\n",
    "# plt.legend()\n",
    "plt.title(\"Comparisons of changes in F_reg for the Debug-e Dataset\")\n",
    "plt.show"
   ]
  },
  {
   "cell_type": "code",
   "execution_count": 22,
   "id": "06b13544",
   "metadata": {},
   "outputs": [
    {
     "data": {
      "text/plain": [
       "<function matplotlib.pyplot.show(close=None, block=None)>"
      ]
     },
     "execution_count": 22,
     "metadata": {},
     "output_type": "execute_result"
    },
    {
     "data": {
      "image/png": "[encoded data removed]",
      "text/plain": [
       "<Figure size 432x288 with 1 Axes>"
      ]
     },
     "metadata": {
      "needs_background": "light"
     },
     "output_type": "display_data"
    }
   ],
   "source": [
    "plt.plot(F_reg_f)\n",
    "\n",
    "# plt.plot(letters, kd_time_lst, label=\"Matching using KD tree\")\n",
    "# plt.legend()\n",
    "plt.title(\"Comparisons of changes in F_reg for the Debug-e Dataset\")\n",
    "plt.show"
   ]
  }
 ],
 "metadata": {
  "kernelspec": {
   "display_name": "Python 3",
   "language": "python",
   "name": "python3"
  },
  "language_info": {
   "codemirror_mode": {
    "name": "ipython",
    "version": 3
   },
   "file_extension": ".py",
   "mimetype": "text/x-python",
   "name": "python",
   "nbconvert_exporter": "python",
   "pygments_lexer": "ipython3",
   "version": "3.9.7"
  }
 },
 "nbformat": 4,
 "nbformat_minor": 5
}
