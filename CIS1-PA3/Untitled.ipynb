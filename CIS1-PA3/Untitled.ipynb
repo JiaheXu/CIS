{
 "cells": [
  {
   "cell_type": "code",
   "execution_count": 1,
   "id": "8fee68b7",
   "metadata": {},
   "outputs": [],
   "source": [
    "from collections import namedtuple\n",
    "from operator import itemgetter\n",
    "from pprint import pformat\n",
    "import numpy as np"
   ]
  },
  {
   "cell_type": "code",
   "execution_count": 2,
   "id": "12dbdb85",
   "metadata": {},
   "outputs": [],
   "source": [
    "class Node(namedtuple('Node', 'location left_child right_child')):\n",
    "    def __repr__(self):\n",
    "        return pformat(tuple(self))\n",
    "\n",
    "\n",
    "class KDTree():\n",
    "    def __init__(self, points):\n",
    "        self.tree = self._make_kdtree(points)\n",
    "        if len(points) > 0:\n",
    "            self.k = len(points[0])\n",
    "        else:\n",
    "            self.k = None\n",
    "\n",
    "    def _make_kdtree(self, points, depth=0):\n",
    "        if not points:\n",
    "            return None\n",
    "\n",
    "        k = len(points[0])\n",
    "        axis = depth % k\n",
    "\n",
    "        points.sort(key=itemgetter(axis))\n",
    "        median = len(points) // 2\n",
    "\n",
    "        return Node(\n",
    "            location=points[median],\n",
    "            left_child=self._make_kdtree(points[:median], depth + 1),\n",
    "            right_child=self._make_kdtree(points[median + 1:], depth + 1))\n",
    "\n",
    "    def find_nearest(self,\n",
    "                     point,\n",
    "                     root=None,\n",
    "                     axis=0,\n",
    "                     dist_func=lambda x, y: np.linalg.norm(x - y)):\n",
    "\n",
    "        if root is None:\n",
    "            root = self.tree\n",
    "            self._best = None\n",
    "\n",
    "        # 若不是叶节点，则继续向下走\n",
    "        if root.left_child or root.right_child:\n",
    "            new_axis = (axis + 1) % self.k\n",
    "            if point[axis] < root.location[axis] and root.left_child:\n",
    "                self.find_nearest(point, root.left_child, new_axis)\n",
    "            elif root.right_child:\n",
    "                self.find_nearest(point, root.right_child, new_axis)\n",
    "\n",
    "        # 回溯：尝试更新 best\n",
    "        dist = dist_func(root.location, point)\n",
    "        if self._best is None or dist < self._best[0]:\n",
    "            self._best = (dist, root.location)\n",
    "\n",
    "        # 若超球与另一边超矩形相交\n",
    "        if abs(point[axis] - root.location[axis]) < self._best[0]:\n",
    "            new_axis = (axis + 1) % self.k\n",
    "            if root.left_child and point[axis] >= root.location[axis]:\n",
    "                self.find_nearest(point, root.left_child, new_axis)\n",
    "            elif root.right_child and point[axis] < root.location[axis]:\n",
    "                self.find_nearest(point, root.right_child, new_axis)\n",
    "\n",
    "        return self._best"
   ]
  },
  {
   "cell_type": "code",
   "execution_count": 3,
   "id": "2e412eb4",
   "metadata": {},
   "outputs": [
    {
     "name": "stdout",
     "output_type": "stream",
     "text": [
      "(3.1622776601683795, (4, 7, 7, 4))\n"
     ]
    }
   ],
   "source": [
    "point_list = [(2, 3, 3,1), (5, 4, 4,2), (9, 6, 7,3), (4, 7, 7,4), (8, 1, 1,5), (7, 2, 2,6)]\n",
    "kdtree = KDTree(point_list)\n",
    "\n",
    "point = np.array([5, 5, 5,5])\n",
    "print(kdtree.find_nearest(point))"
   ]
  }
 ],
 "metadata": {
  "kernelspec": {
   "display_name": "Python 3",
   "language": "python",
   "name": "python3"
  },
  "language_info": {
   "codemirror_mode": {
    "name": "ipython",
    "version": 3
   },
   "file_extension": ".py",
   "mimetype": "text/x-python",
   "name": "python",
   "nbconvert_exporter": "python",
   "pygments_lexer": "ipython3",
   "version": "3.8.5"
  }
 },
 "nbformat": 4,
 "nbformat_minor": 5
}
