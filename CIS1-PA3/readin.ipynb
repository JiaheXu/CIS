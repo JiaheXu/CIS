{
 "cells": [
  {
   "cell_type": "code",
   "execution_count": 1,
   "id": "cc6512da",
   "metadata": {},
   "outputs": [],
   "source": [
    "import numpy as np\n",
    "import sys, os\n",
    "import time\n",
    "import glob"
   ]
  },
  {
   "cell_type": "code",
   "execution_count": 2,
   "id": "0de19a22",
   "metadata": {},
   "outputs": [],
   "source": [
    "data_dir = 'DATA/'\n",
    "letters = ['A', 'B', 'C', 'D', 'E', 'F', 'G', 'H', 'J']\n",
    "runtype = ['Debug' ,'Debug' ,'Debug' ,'Debug' ,'Debug' ,'Debug' ,'Unknown','Unknown','Unknown']\n",
    "pa = \"PA3\"\n",
    "filename = '/Problem3MeshFile.sur'"
   ]
  },
  {
   "cell_type": "code",
   "execution_count": 3,
   "id": "effcf47b",
   "metadata": {},
   "outputs": [],
   "source": [
    "def read_mesh( data_dir , filename ):\n",
    "# get the coordinate of points\n",
    "# get the vertices of each triangle\n",
    "    mesh = glob.glob( data_dir + filename )\n",
    "    mesh_file = open( mesh[0] , \"r\")\n",
    "    mesh_lines = mesh_file.read().splitlines()\n",
    "    mesh_data = []\n",
    "    \n",
    "    for num in range(len(mesh_lines)):\n",
    "        mesh_data.append( mesh_lines[num].split(' ') )\n",
    "        for i in range(len( mesh_data[-1])):\n",
    "            mesh_data[-1][i] = mesh_data[-1][i].strip() # to remove space and tabs\n",
    "    Np = int(mesh_data[0][0])\n",
    "    mesh_data = mesh_data[1:]\n",
    "    \n",
    "    mesh_points = np.asarray(mesh_data[0:Np]).astype(float)\n",
    "    mesh_data = mesh_data[Np:]\n",
    "    \n",
    "    Ntriangles = int(mesh_data[0][0])\n",
    "    mesh_data = mesh_data[1:]\n",
    "    mesh_vertices = np.asarray(mesh_data[0:Ntriangles]).astype(int)\n",
    "    mesh_data = mesh_data[Ntriangles:]\n",
    "    \n",
    "    return Np,mesh_points,Ntriangles,mesh_vertices"
   ]
  },
  {
   "cell_type": "code",
   "execution_count": 4,
   "id": "12404f93",
   "metadata": {},
   "outputs": [],
   "source": [
    "def read_body( data_dir , filename ):\n",
    "\n",
    "# get the markers' positions and tip of a body\n",
    "    body = glob.glob( data_dir + filename )\n",
    "    body_file = open( body[0] , \"r\")\n",
    "    body_lines = body_file.read().splitlines()\n",
    "    body_data = []\n",
    "    \n",
    "    for num in range(len(body_lines)):\n",
    "        body_data.append( body_lines[num].split() )\n",
    "        for i in range(len( body_data[-1])):\n",
    "            body_data[-1][i] = body_data[-1][i].strip() # to remove space and tabs\n",
    "    Np = int(body_data[0][0])\n",
    "    body_data = body_data[1:]\n",
    "    \n",
    "    body_points = np.asarray(body_data[0:Np]).astype(float)\n",
    "    body_data = body_data[Np:]\n",
    "    \n",
    "    tip = body_data[0]\n",
    "    \n",
    "    return Np,body_points,tip\n"
   ]
  },
  {
   "cell_type": "code",
   "execution_count": 5,
   "id": "bd83dc92",
   "metadata": {},
   "outputs": [],
   "source": [
    "def read_sample( data_dir , filename , N_Ap , N_Bp ):\n",
    "\n",
    "# get the markers' positions and tip of a body\n",
    "    sample = glob.glob( data_dir + filename )\n",
    "    sample_file = open( sample[0] , \"r\")\n",
    "    sample_lines = sample_file.read().splitlines()\n",
    "    sample_data = []\n",
    "    \n",
    "    for num in range(len(sample_lines)):\n",
    "        sample_data.append( sample_lines[num].split(',') )\n",
    "        for i in range(len( sample_data[-1])):\n",
    "            sample_data[-1][i] = sample_data[-1][i].strip() # to remove space and tabs\n",
    "    Np = int(sample_data[0][0])\n",
    "    N_sample = int(sample_data[0][1])\n",
    "    N_Dp = Np - N_Ap - N_Bp\n",
    "    sample_data = sample_data[1:]\n",
    "    \n",
    "    A_frames=[]\n",
    "    B_frames=[]\n",
    "    \n",
    "    for i in range(N_sample):\n",
    "        A_sample_points = np.asarray( sample_data[ i*Np : i*Np + N_Ap ] ).astype( float )\n",
    "        A_frames.append( A_sample_points )\n",
    "        \n",
    "        B_sample_points = np.asarray( sample_data[ i*Np + N_Ap :  i*Np + N_Ap + N_Bp] ).astype( float )\n",
    "        B_frames.append( B_sample_points )\n",
    "    \n",
    "    return A_frames , B_frames"
   ]
  },
  {
   "cell_type": "code",
   "execution_count": 6,
   "id": "297daf5a",
   "metadata": {},
   "outputs": [],
   "source": [
    "for num in range(1):\n",
    "    data_type = num\n",
    "    letter = num\n",
    "    Np,mesh_points,Ntriangles,mesh_vertices = read_mesh(data_dir , '/Problem3MeshFile.sur')\n",
    "    N_Ap,A_points,Atip = read_body(data_dir , '/Problem3-BodyA.txt')\n",
    "    N_Bp,B_points,Btip = read_body(data_dir , '/Problem3-BodyB.txt')\n",
    "    \n",
    "    sample_dir = '/PA3-' + letters[num] + '-' + runtype[num] + '-SampleReadingsTest.txt'\n",
    "    A_frames , B_frames = read_sample(data_dir, sample_dir, N_Ap , N_Bp)"
   ]
  },
  {
   "cell_type": "code",
   "execution_count": 7,
   "id": "46be6690",
   "metadata": {},
   "outputs": [],
   "source": [
    "#if __name__ == '__main__':\n",
    "#    main()"
   ]
  },
  {
   "cell_type": "code",
   "execution_count": null,
   "id": "b5529e15",
   "metadata": {},
   "outputs": [],
   "source": []
  }
 ],
 "metadata": {
  "kernelspec": {
   "display_name": "Python 3",
   "language": "python",
   "name": "python3"
  },
  "language_info": {
   "codemirror_mode": {
    "name": "ipython",
    "version": 3
   },
   "file_extension": ".py",
   "mimetype": "text/x-python",
   "name": "python",
   "nbconvert_exporter": "python",
   "pygments_lexer": "ipython3",
   "version": "3.8.8"
  }
 },
 "nbformat": 4,
 "nbformat_minor": 5
}
