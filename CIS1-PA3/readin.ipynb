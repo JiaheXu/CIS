{
 "cells": [
  {
   "cell_type": "code",
   "execution_count": 1,
   "id": "cc6512da",
   "metadata": {},
   "outputs": [],
   "source": [
    "import numpy as np\n",
    "import sys, os\n",
    "import time\n",
    "import glob\n",
    "from registration_3d import *\n",
    "from cartesian import *"
   ]
  },
  {
   "cell_type": "code",
   "execution_count": 2,
   "id": "0de19a22",
   "metadata": {},
   "outputs": [],
   "source": [
    "data_dir = 'DATA/'\n",
    "letters = ['A', 'B', 'C', 'D', 'E', 'F', 'G', 'H', 'J']\n",
    "runtype = ['Debug' ,'Debug' ,'Debug' ,'Debug' ,'Debug' ,'Debug' ,'Unknown','Unknown','Unknown']\n",
    "pa = \"PA3\"\n",
    "filename = '/Problem3MeshFile.sur'"
   ]
  },
  {
   "cell_type": "code",
   "execution_count": 3,
   "id": "effcf47b",
   "metadata": {},
   "outputs": [],
   "source": [
    "def read_mesh( data_dir , filename ):\n",
    "# get the coordinate of points\n",
    "# get the vertices of each triangle\n",
    "    mesh = glob.glob( data_dir + filename )\n",
    "    mesh_file = open( mesh[0] , \"r\")\n",
    "    mesh_lines = mesh_file.read().splitlines()\n",
    "    mesh_data = []\n",
    "    \n",
    "    for num in range(len(mesh_lines)):\n",
    "        mesh_data.append( mesh_lines[num].split(' ') )\n",
    "        for i in range(len( mesh_data[-1])):\n",
    "            mesh_data[-1][i] = mesh_data[-1][i].strip() # to remove space and tabs\n",
    "    Np = int(mesh_data[0][0])\n",
    "    mesh_data = mesh_data[1:]\n",
    "    \n",
    "    mesh_points = np.asarray(mesh_data[0:Np]).astype(float)\n",
    "    mesh_data = mesh_data[Np:]\n",
    "    \n",
    "    Ntriangles = int(mesh_data[0][0])\n",
    "    mesh_data = mesh_data[1:]\n",
    "    mesh_vertices = np.asarray(mesh_data[0:Ntriangles]).astype(int)\n",
    "    mesh_data = mesh_data[Ntriangles:]\n",
    "    \n",
    "    return Np,mesh_points,Ntriangles,mesh_vertices"
   ]
  },
  {
   "cell_type": "code",
   "execution_count": 4,
   "id": "12404f93",
   "metadata": {},
   "outputs": [],
   "source": [
    "def read_body( data_dir , filename ):\n",
    "\n",
    "# get the markers' positions and tip of a body\n",
    "    body = glob.glob( data_dir + filename )\n",
    "    body_file = open( body[0] , \"r\")\n",
    "    body_lines = body_file.read().splitlines()\n",
    "    body_data = []\n",
    "    \n",
    "    for num in range(len(body_lines)):\n",
    "        body_data.append( body_lines[num].split() )\n",
    "        for i in range(len( body_data[-1])):\n",
    "            body_data[-1][i] = body_data[-1][i].strip() # to remove space and tabs\n",
    "    Np = int(body_data[0][0])\n",
    "    body_data = body_data[1:]\n",
    "    \n",
    "    body_points = np.asarray(body_data[0:Np]).astype(float)\n",
    "    body_data = body_data[Np:]\n",
    "    \n",
    "    tip = body_data[0]\n",
    "    tip = np.array(tip).astype(float)\n",
    "    tip = tip.reshape(1,-1)\n",
    "    return Np,body_points,tip\n"
   ]
  },
  {
   "cell_type": "code",
   "execution_count": 5,
   "id": "bd83dc92",
   "metadata": {},
   "outputs": [],
   "source": [
    "def read_sample( data_dir , filename , N_Ap , N_Bp ):\n",
    "# get the markers' positions and tip of a body\n",
    "# N_Ap is the number of marker in A\n",
    "# N_Bp is the number of marker in B\n",
    "    sample = glob.glob( data_dir + filename )\n",
    "    sample_file = open( sample[0] , \"r\")\n",
    "    sample_lines = sample_file.read().splitlines()\n",
    "    sample_data = []\n",
    "    \n",
    "    for num in range(len(sample_lines)):\n",
    "        sample_data.append( sample_lines[num].split(',') )\n",
    "        for i in range(len( sample_data[-1])):\n",
    "            sample_data[-1][i] = sample_data[-1][i].strip() # to remove space and tabs\n",
    "    Np = int(sample_data[0][0])\n",
    "    N_sample = int(sample_data[0][1])\n",
    "    N_Dp = Np - N_Ap - N_Bp\n",
    "    sample_data = sample_data[1:]\n",
    "    sample_data = np.array(sample_data).astype(float)\n",
    "    A_frames=[]\n",
    "    B_frames=[]\n",
    "    \n",
    "    for i in range(N_sample):\n",
    "        A_sample_points = np.asarray( sample_data[ i*Np : i*Np + N_Ap ] ).astype( float )\n",
    "        A_frames.append( A_sample_points )\n",
    "        \n",
    "        B_sample_points = np.asarray( sample_data[ i*Np + N_Ap :  i*Np + N_Ap + N_Bp] ).astype( float )\n",
    "        B_frames.append( B_sample_points )\n",
    "\n",
    "    A_frames = np.array(A_frames).astype(float)\n",
    "    B_frames = np.array(B_frames).astype(float)\n",
    "        \n",
    "    return A_frames , B_frames"
   ]
  },
  {
   "cell_type": "code",
   "execution_count": 6,
   "id": "279c0536",
   "metadata": {},
   "outputs": [],
   "source": [
    "def get_d_k(A_frames, A_points, A_tip, B_frames, B_points, B_tip):\n",
    "    \n",
    "    d_k = []\n",
    "    for i in range(len(A_frames)):\n",
    "        F_AK = registration_3d(A_points , A_frames[i])\n",
    "        F_BK = registration_3d(B_points , B_frames[i])\n",
    "        # F_AK is the transformation from A tool frame to optical frame\n",
    "        # F_AK is the transformation from B tool frame to optical frame\n",
    "        d_k_i = points_transform( Fi(F_BK) @ F_AK , A_tip)\n",
    "        d_k.append(d_k_i)\n",
    "    d_k = np.array(d_k).astype(float)\n",
    "    d_k = d_k.reshape(-1,3)\n",
    "    return d_k"
   ]
  },
  {
   "cell_type": "code",
   "execution_count": 7,
   "id": "9a671736",
   "metadata": {},
   "outputs": [],
   "source": [
    "def ProjectOnSegment(c,p,q):\n",
    "# c is the point we want to find corresponding closest point\n",
    "# p q are the start and the and of a segment\n",
    "\n",
    "#according to https://ciis.lcsr.jhu.edu/lib/exe/fetch.php?media=courses:455-655:lectures:finding_point-pairs.pdf\n",
    "# page 7\n",
    "    c = np.array(c).astype(float)\n",
    "    p = np.array(p).astype(float)\n",
    "    q = np.array(q).astype(float)\n",
    "    #print(np.dot( c-p , q-p ))\n",
    "    #print(np.dot( q-p ,q-p ))\n",
    "    Lambda = np.dot( c-p , q-p ) / np.dot( q-p ,q-p )\n",
    "    Lambda = max(0, min(Lambda, 1))\n",
    "    c_star = p + Lambda*(q-p)\n",
    "    return c_star"
   ]
  },
  {
   "cell_type": "code",
   "execution_count": 8,
   "id": "99ec1334",
   "metadata": {},
   "outputs": [],
   "source": [
    "def FindClosestPoint( a, p, q, r ):\n",
    "    \n",
    "    A = np.zeros((3,2),dtype = float )\n",
    "    \n",
    "    for i in range(3):\n",
    "        A[i][0] = q[i] - p[i]\n",
    "        A[i][1] = r[i] - p[i]\n",
    "        \n",
    "    B = a - p\n",
    "    B = B.reshape(-1,1)\n",
    "    X = np.linalg.lstsq(A, B, rcond=None)[0]\n",
    "    \n",
    "    Lambda = X[0]\n",
    "    Miu = X[1]\n",
    "\n",
    "    a = p + Lambda * (q - p) + Miu * (r - p)\n",
    "    P_closest = np.zeros(3)\n",
    "\n",
    "    if Lambda >= 0 and Miu>=0 and Lambda+Miu<=1:\n",
    "        P_closest = a\n",
    "    elif Lambda < 0:\n",
    "        P_closest = ProjectOnSegment(a, r, p)\n",
    "    elif Miu < 0:\n",
    "        P_closest = ProjectOnSegment(a, p, q)\n",
    "    elif Lambda + Miu > 1:\n",
    "        P_closest = ProjectOnSegment(a, q, r)\n",
    "\n",
    "    return P_closest\n"
   ]
  },
  {
   "cell_type": "code",
   "execution_count": 9,
   "id": "4823c561",
   "metadata": {},
   "outputs": [],
   "source": [
    "def matching(s_k , Np , mesh_points , Ntriangles , mesh_vertices ):\n",
    "    Ns = s_k.shape[0]\n",
    "    \n",
    "    closest_p = []\n",
    "    for i in range(Ns):\n",
    "        mindist = np.finfo(np.float32).max\n",
    "        P_closest = []\n",
    "        for j in range(Ntriangles):\n",
    "            p = mesh_points[mesh_vertices[j][0]] \n",
    "            q = mesh_points[mesh_vertices[j][1]]\n",
    "            r = mesh_points[mesh_vertices[j][2]] \n",
    "            \n",
    "            tmp = FindClosestPoint( s_k[i], p, q, r )\n",
    "\n",
    "            dist = np.linalg.norm(s_k[i] - tmp)\n",
    "            if mindist > dist:\n",
    "                mindist = dist\n",
    "                P_closest = tmp\n",
    "        closest_p.append(P_closest)\n",
    "                \n",
    "    return closest_p"
   ]
  },
  {
   "cell_type": "code",
   "execution_count": 10,
   "id": "297daf5a",
   "metadata": {},
   "outputs": [
    {
     "ename": "ValueError",
     "evalue": "operands could not be broadcast together with shapes (3,) (0,) ",
     "output_type": "error",
     "traceback": [
      "\u001b[1;31m---------------------------------------------------------------------------\u001b[0m",
      "\u001b[1;31mValueError\u001b[0m                                Traceback (most recent call last)",
      "\u001b[1;32m<ipython-input-10-30c2888e26de>\u001b[0m in \u001b[0;36m<module>\u001b[1;34m\u001b[0m\n\u001b[0;32m     15\u001b[0m \u001b[1;33m\u001b[0m\u001b[0m\n\u001b[0;32m     16\u001b[0m     \u001b[1;31m# c_k_i are the closest points on the surface to s_k_i\u001b[0m\u001b[1;33m\u001b[0m\u001b[1;33m\u001b[0m\u001b[1;33m\u001b[0m\u001b[0m\n\u001b[1;32m---> 17\u001b[1;33m     \u001b[0mc_k\u001b[0m \u001b[1;33m=\u001b[0m \u001b[0mmatching\u001b[0m\u001b[1;33m(\u001b[0m\u001b[0ms_k\u001b[0m \u001b[1;33m,\u001b[0m \u001b[0mNp\u001b[0m \u001b[1;33m,\u001b[0m \u001b[0mmesh_points\u001b[0m \u001b[1;33m,\u001b[0m \u001b[0mNtriangles\u001b[0m \u001b[1;33m,\u001b[0m \u001b[0mmesh_vertices\u001b[0m \u001b[1;33m)\u001b[0m\u001b[1;33m\u001b[0m\u001b[1;33m\u001b[0m\u001b[0m\n\u001b[0m",
      "\u001b[1;32m<ipython-input-9-5f640f8bfe44>\u001b[0m in \u001b[0;36mmatching\u001b[1;34m(s_k, Np, mesh_points, Ntriangles, mesh_vertices)\u001b[0m\n\u001b[0;32m     13\u001b[0m             \u001b[0mtmp\u001b[0m \u001b[1;33m=\u001b[0m \u001b[0mFindClosestPoint\u001b[0m\u001b[1;33m(\u001b[0m \u001b[0ms_k\u001b[0m\u001b[1;33m[\u001b[0m\u001b[0mi\u001b[0m\u001b[1;33m]\u001b[0m\u001b[1;33m,\u001b[0m \u001b[0mp\u001b[0m\u001b[1;33m,\u001b[0m \u001b[0mq\u001b[0m\u001b[1;33m,\u001b[0m \u001b[0mr\u001b[0m \u001b[1;33m)\u001b[0m\u001b[1;33m\u001b[0m\u001b[1;33m\u001b[0m\u001b[0m\n\u001b[0;32m     14\u001b[0m \u001b[1;33m\u001b[0m\u001b[0m\n\u001b[1;32m---> 15\u001b[1;33m             \u001b[0mdist\u001b[0m \u001b[1;33m=\u001b[0m \u001b[0mnp\u001b[0m\u001b[1;33m.\u001b[0m\u001b[0mlinalg\u001b[0m\u001b[1;33m.\u001b[0m\u001b[0mnorm\u001b[0m\u001b[1;33m(\u001b[0m\u001b[0ms_k\u001b[0m\u001b[1;33m[\u001b[0m\u001b[0mi\u001b[0m\u001b[1;33m]\u001b[0m \u001b[1;33m-\u001b[0m \u001b[0mP_closest\u001b[0m\u001b[1;33m)\u001b[0m\u001b[1;33m\u001b[0m\u001b[1;33m\u001b[0m\u001b[0m\n\u001b[0m\u001b[0;32m     16\u001b[0m             \u001b[1;32mif\u001b[0m \u001b[0mmindist\u001b[0m \u001b[1;33m>\u001b[0m \u001b[0mdist\u001b[0m\u001b[1;33m:\u001b[0m\u001b[1;33m\u001b[0m\u001b[1;33m\u001b[0m\u001b[0m\n\u001b[0;32m     17\u001b[0m                 \u001b[0mmindist\u001b[0m \u001b[1;33m=\u001b[0m \u001b[0mdist\u001b[0m\u001b[1;33m\u001b[0m\u001b[1;33m\u001b[0m\u001b[0m\n",
      "\u001b[1;31mValueError\u001b[0m: operands could not be broadcast together with shapes (3,) (0,) "
     ]
    }
   ],
   "source": [
    "for num in range(1):\n",
    "    data_type = num\n",
    "    letter = num\n",
    "    Np,mesh_points,Ntriangles,mesh_vertices = read_mesh(data_dir , '/Problem3MeshFile.sur')\n",
    "    N_Ap,A_points,A_tip = read_body(data_dir , '/Problem3-BodyA.txt')\n",
    "    N_Bp,B_points,B_tip = read_body(data_dir , '/Problem3-BodyB.txt')\n",
    "    \n",
    "    sample_dir = '/PA3-' + letters[num] + '-' + runtype[num] + '-SampleReadingsTest.txt'\n",
    "    A_frames , B_frames = read_sample(data_dir, sample_dir, N_Ap , N_Bp)\n",
    "    \n",
    "    d_k = get_d_k(A_frames, A_points, A_tip, B_frames, B_points, B_tip)\n",
    "    F_reg = np.eye(4)\n",
    "    #in PA3 F_reg = identity matrix\n",
    "    s_k = points_transform(F_reg , d_k) \n",
    "    \n",
    "    # c_k_i are the closest points on the surface to s_k_i \n",
    "    c_k = matching(s_k , Np , mesh_points , Ntriangles , mesh_vertices )"
   ]
  },
  {
   "cell_type": "code",
   "execution_count": null,
   "id": "46be6690",
   "metadata": {},
   "outputs": [],
   "source": [
    "#if __name__ == '__main__':\n",
    "#    main()"
   ]
  },
  {
   "cell_type": "code",
   "execution_count": null,
   "id": "b5529e15",
   "metadata": {},
   "outputs": [],
   "source": [
    "len(d_k)"
   ]
  },
  {
   "cell_type": "code",
   "execution_count": null,
   "id": "5ea79069",
   "metadata": {},
   "outputs": [],
   "source": [
    "A_tip.shape"
   ]
  },
  {
   "cell_type": "code",
   "execution_count": null,
   "id": "dba32fac",
   "metadata": {},
   "outputs": [],
   "source": [
    "c_k"
   ]
  }
 ],
 "metadata": {
  "kernelspec": {
   "display_name": "Python 3",
   "language": "python",
   "name": "python3"
  },
  "language_info": {
   "codemirror_mode": {
    "name": "ipython",
    "version": 3
   },
   "file_extension": ".py",
   "mimetype": "text/x-python",
   "name": "python",
   "nbconvert_exporter": "python",
   "pygments_lexer": "ipython3",
   "version": "3.8.5"
  }
 },
 "nbformat": 4,
 "nbformat_minor": 5
}
