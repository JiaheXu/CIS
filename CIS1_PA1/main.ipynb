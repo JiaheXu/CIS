{
 "cells": [
  {
   "cell_type": "code",
   "execution_count": 1,
   "id": "17f733a9",
   "metadata": {},
   "outputs": [],
   "source": [
    "import numpy as np\n",
    "import glob\n",
    "from distort_calibration import *\n",
    "from cartesian import*\n",
    "from registration_3d import*\n",
    "from optical_tracking import*\n",
    "from em_tracking import *\n",
    "from eval import *\n",
    "from pathlib import Path\n",
    "import argparse"
   ]
  },
  {
   "cell_type": "code",
   "execution_count": 3,
   "id": "96fd0bb5",
   "metadata": {},
   "outputs": [
    {
     "name": "stdout",
     "output_type": "stream",
     "text": [
      "Average for difference of C_exp = 0.1709345864044134\n",
      "Variance for difference of C_exp = 0.024877483429841352\n",
      "Max for difference of C_exp = 0.873163906426953\n",
      "Min for difference of C_exp = 0.0003769950319565396\n",
      "Average for difference of em_pivot = 0.39779828994677285\n",
      "Variance for difference of em_pivot = 0.011282769662685599\n",
      "Max for difference of em_pivot = 0.522158565544288\n",
      "Min for difference of em_pivot = 0.2626452401599977\n",
      "Average for difference of opt_pivot = 0.002903666834233339\n",
      "Variance for difference of opt_pivot = 3.926498011411989e-06\n",
      "Max for difference of opt_pivot = 0.004772956439580867\n",
      "Min for difference of opt_pivot = 0.00016096664091946877\n"
     ]
    }
   ],
   "source": [
    "def main():\n",
    "\n",
    "# sample names from DATA\n",
    "# pa1-debug-a-calbody\n",
    "# pa1-unknown-a-calreadings\n",
    "    runtype = 0\n",
    "    run = 2\n",
    "    letters = ['a', 'b', 'c', 'd', 'e', 'f', 'g', 'h', 'i', 'j', 'k']\n",
    "    type = ['debug', 'unknown']\n",
    "    data_dir = \"DATA/\"\n",
    "    # first read in Calbody (Nd, Na, Nc)\n",
    "    # then readings  (ND, NA, NC, nframes)\n",
    "    \n",
    "    # the last output determines whether to show the result in terminal\n",
    "    em_pivot = em_tracking( data_dir , type[runtype] , letters[run] , output = 0)\n",
    "    optical_pivot = optical_tracking( data_dir , type[runtype] , letters[run] , output = 0)\n",
    "\n",
    "    tmp_ce = distort_calibration( data_dir , type[runtype] , letters[run] ,output = 0)\n",
    "    C_exp = tmp_ce[0]\n",
    "    Nc = tmp_ce[1]\n",
    "    Nframes = tmp_ce[2]\n",
    "    # print(optical_pivot.shape)\n",
    "    ep = np.transpose(em_pivot)\n",
    "    op = np.transpose(optical_pivot)\n",
    "\n",
    "    tmp = eval( data_dir , type[runtype] , letters[run] , C_exp, em_pivot, optical_pivot)\n",
    "    str_tmp = [str(float(x)) for x in tmp]\n",
    "    print(\"Average for difference of C_exp = \" + str_tmp[0])\n",
    "    print(\"Variance for difference of C_exp = \" + str_tmp[1])\n",
    "    print(\"Max for difference of C_exp = \" + str_tmp[2])\n",
    "    print(\"Min for difference of C_exp = \" + str_tmp[3])\n",
    "\n",
    "    print(\"Average for difference of em_pivot = \" + str_tmp[4])\n",
    "    print(\"Variance for difference of em_pivot = \" + str_tmp[5])\n",
    "    print(\"Max for difference of em_pivot = \" + str_tmp[6])\n",
    "    print(\"Min for difference of em_pivot = \" + str_tmp[7])\n",
    "\n",
    "    print(\"Average for difference of opt_pivot = \" + str_tmp[8])\n",
    "    print(\"Variance for difference of opt_pivot = \" + str_tmp[9])\n",
    "    print(\"Max for difference of opt_pivot = \" + str_tmp[10])\n",
    "    print(\"Min for difference of opt_pivot = \" + str_tmp[11])\n",
    "\n",
    "    output_name = data_dir\n",
    "    # print(em_pivot, optical_pivot)\n",
    "    # print(Nc, Nframes)\n",
    "\n",
    "    \n",
    "    \n",
    "if __name__ == '__main__':\n",
    "    main()\n"
   ]
  },
  {
   "cell_type": "code",
   "execution_count": null,
   "id": "2f6bbb11",
   "metadata": {},
   "outputs": [],
   "source": []
  }
 ],
 "metadata": {
  "interpreter": {
   "hash": "794c73c8f7a8901446f751d3bdba43ff812b024dcff93e74cd8a53244f197196"
  },
  "kernelspec": {
   "display_name": "Python 3",
   "language": "python",
   "name": "python3"
  },
  "language_info": {
   "codemirror_mode": {
    "name": "ipython",
    "version": 3
   },
   "file_extension": ".py",
   "mimetype": "text/x-python",
   "name": "python",
   "nbconvert_exporter": "python",
   "pygments_lexer": "ipython3",
   "version": "3.8.5"
  }
 },
 "nbformat": 4,
 "nbformat_minor": 5
}
