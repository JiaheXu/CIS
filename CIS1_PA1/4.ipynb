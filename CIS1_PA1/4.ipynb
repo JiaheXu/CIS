{
 "cells": [
  {
   "cell_type": "code",
   "execution_count": 1,
   "id": "35943167",
   "metadata": {},
   "outputs": [],
   "source": [
    "import glob\n",
    "import numpy as np\n",
    "import cartesian\n",
    "import lsq_transform"
   ]
  },
  {
   "cell_type": "code",
   "execution_count": 2,
   "id": "c4b49b0e",
   "metadata": {},
   "outputs": [],
   "source": [
    "runtype = 0\n",
    "run = 5\n",
    "if True:\n",
    "    letters = ['a', 'b', 'c', 'd', 'e', 'f', 'g', 'h', 'i', 'j', 'k']\n",
    "    type = ['debug', 'unknown']\n",
    "\n",
    "    # first read in Calbody (Nd, Na, Nc)\n",
    "    # then readings  (ND, NA, NC, nframes)\n",
    "    data_dir = \"DATA/\"\n",
    "    \n",
    "    calbody = glob.glob(data_dir + 'pa1-' + type[runtype] + '-' + letters[run] + '-calbody.txt')\n",
    "    calbody_file = open(calbody[0], \"r\")\n",
    "    calbody_lines = calbody_file.read().splitlines()\n",
    "    calbody_data = []\n",
    "    \n",
    "    for num in range(len(calbody_lines)):\n",
    "        calbody_data.append( calbody_lines[num].split(',') )\n",
    "        for i in range(len(calbody_data[-1])):\n",
    "            calbody_data[-1][i] = calbody_data[num][i].strip() # to remove space and tabs\n",
    "    \n",
    "    Nd = int(calbody_data[0][0])\n",
    "    Na = int(calbody_data[0][1])\n",
    "    Nc = int(calbody_data[0][2])\n",
    "    \n",
    "    calbody_data = np.asarray(calbody_data[1:]).astype(float)\n",
    "    c_expected = np.zeros(1)\n",
    "\n",
    "    d = calbody_data[0: Nd, :]\n",
    "    a = calbody_data[Nd: Nd + Na, :]\n",
    "    c = calbody_data[Nd + Na:, :]\n",
    "\n"
   ]
  },
  {
   "cell_type": "code",
   "execution_count": 3,
   "id": "8cc117bd",
   "metadata": {},
   "outputs": [
    {
     "name": "stdout",
     "output_type": "stream",
     "text": [
      "Nd :  8\n",
      "Na :  8\n",
      "Nc :  27\n"
     ]
    }
   ],
   "source": [
    "print(\"Nd : \",Nd)\n",
    "print(\"Na : \",Na)\n",
    "print(\"Nc : \",Nc)"
   ]
  },
  {
   "cell_type": "code",
   "execution_count": 4,
   "id": "a824d516",
   "metadata": {},
   "outputs": [
    {
     "data": {
      "text/plain": [
       "(8, 3)"
      ]
     },
     "execution_count": 4,
     "metadata": {},
     "output_type": "execute_result"
    }
   ],
   "source": [
    "d.shape"
   ]
  },
  {
   "cell_type": "code",
   "execution_count": 5,
   "id": "c46c9b75",
   "metadata": {},
   "outputs": [
    {
     "data": {
      "text/plain": [
       "(8, 3)"
      ]
     },
     "execution_count": 5,
     "metadata": {},
     "output_type": "execute_result"
    }
   ],
   "source": [
    "a.shape"
   ]
  },
  {
   "cell_type": "code",
   "execution_count": 6,
   "id": "3e5ab0ec",
   "metadata": {},
   "outputs": [
    {
     "data": {
      "text/plain": [
       "(27, 3)"
      ]
     },
     "execution_count": 6,
     "metadata": {},
     "output_type": "execute_result"
    }
   ],
   "source": [
    "c.shape"
   ]
  },
  {
   "cell_type": "code",
   "execution_count": 7,
   "id": "ea45f8af",
   "metadata": {},
   "outputs": [],
   "source": [
    "    calreadings = glob.glob(data_dir + 'pa1-' + type[runtype] + '-' + letters[run] + '-calreadings.txt')\n",
    "    calreadings_file = open(calreadings[0], \"r\")\n",
    "    calreadings_lines = calreadings_file.read().splitlines()\n",
    "    calreadings_data = []\n",
    "    \n",
    "    for num in range(len(calreadings_lines)):\n",
    "        calreadings_data.append( calreadings_lines[num].split(',') )\n",
    "        for i in range(len( calreadings_data[-1] )):\n",
    "            calreadings_data[-1][i] = calreadings_data[-1][i].strip()\n",
    "\n",
    "    ND = int(calreadings_data[0][0])\n",
    "    NA = int(calreadings_data[0][1])\n",
    "    NC = int(calreadings_data[0][2])\n",
    "    Nframes = int(calreadings_data[0][3])\n",
    "    \n",
    "    calreadings_data = np.asarray(calreadings_data[1:]).astype(float)"
   ]
  },
  {
   "cell_type": "code",
   "execution_count": 8,
   "id": "a9f2f575",
   "metadata": {},
   "outputs": [],
   "source": [
    "    C_exp = np.zeros((1,3))\n",
    "    for i in range(Nframes):\n",
    "    #for i in range(1):\n",
    "        start_index = i*(ND + NA + NC)\n",
    "        D = calreadings_data[start_index : start_index + ND, :]\n",
    "        A = calreadings_data[start_index + ND: start_index + ND + NA, :]\n",
    "        C = calreadings_data[start_index + ND + NA : start_index + ND + NA + NC , :]\n",
    "    \n",
    "        \n",
    "        FD = lsq_transform.get_lsq_transform(d, D)\n",
    "        FA = lsq_transform.get_lsq_transform(a, A)\n",
    "        \n",
    "        FD_inv = cartesian.Fi(FD)\n",
    "        C_exp_new = cartesian.points_transform(FD_inv@FA,c)\n",
    "        C_exp = np.vstack((C_exp,C_exp_new))\n",
    "    C_exp = C_exp[1:]\n",
    "############### ????????????????"
   ]
  },
  {
   "cell_type": "code",
   "execution_count": null,
   "id": "413a2ab1",
   "metadata": {},
   "outputs": [],
   "source": []
  },
  {
   "cell_type": "code",
   "execution_count": 9,
   "id": "dacb1506",
   "metadata": {},
   "outputs": [
    {
     "data": {
      "text/plain": [
       "(216, 3)"
      ]
     },
     "execution_count": 9,
     "metadata": {},
     "output_type": "execute_result"
    }
   ],
   "source": [
    "C_exp.shape"
   ]
  },
  {
   "cell_type": "code",
   "execution_count": null,
   "id": "202b6b61",
   "metadata": {},
   "outputs": [],
   "source": []
  },
  {
   "cell_type": "code",
   "execution_count": null,
   "id": "e318a914",
   "metadata": {},
   "outputs": [],
   "source": []
  }
 ],
 "metadata": {
  "interpreter": {
   "hash": "8b05d36a51d5b138741486e99b99860feed499a26db1fe4e5b921224bbf7548c"
  },
  "kernelspec": {
   "display_name": "Python 3.9.7 64-bit ('default': conda)",
   "name": "python3"
  },
  "language_info": {
   "codemirror_mode": {
    "name": "ipython",
    "version": 3
   },
   "file_extension": ".py",
   "mimetype": "text/x-python",
   "name": "python",
   "nbconvert_exporter": "python",
   "pygments_lexer": "ipython3",
   "version": "3.9.7"
  }
 },
 "nbformat": 4,
 "nbformat_minor": 5
}
