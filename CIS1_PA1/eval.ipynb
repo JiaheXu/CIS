{
 "cells": [
  {
   "cell_type": "code",
   "execution_count": 5,
   "metadata": {},
   "outputs": [],
   "source": [
    "import glob\n",
    "import numpy as np\n",
    "import cartesian\n",
    "from lsq_transform import *\n",
    "from pivot_calibration import pivot_calibration\n",
    "import copy\n",
    "import os\n",
    "\n",
    "runtype = 0\n",
    "run = 0\n",
    "data_dir = \"DATA/\"\n",
    "data_type = \"debug\"\n",
    "letter = \"g\"\n",
    "output = 1"
   ]
  },
  {
   "cell_type": "code",
   "execution_count": 6,
   "metadata": {},
   "outputs": [],
   "source": [
    "# file_path = glob.glob(data_dir + 'pa1-' + data_type + '-' + letter + '-output')\n",
    "file_path = 'pa1-' + data_type + '-' + letter + '-output'\n",
    "path_lst = []\n",
    "for file in os.listdir(data_dir):\n",
    "    if file.startswith(file_path):\n",
    "        path_lst.append(file)\n"
   ]
  },
  {
   "cell_type": "code",
   "execution_count": 21,
   "metadata": {},
   "outputs": [],
   "source": [
    "output_data = []\n",
    "for file in path_lst:\n",
    "    read_file = open(os.path.join(data_dir, file), mode='r')\n",
    "    lines = read_file.read().splitlines()\n",
    "    for num in range(len(lines)):\n",
    "        output_data.append( lines[num].split(',') )\n",
    "        for i in range(len(output_data[-1])):\n",
    "            output_data[-1][i] = output_data[-1][i].strip()\n",
    "Nc = int(output_data[0][0])\n",
    "Nframes = int(output_data[0][1])\n",
    "output_name = output_data[0][2]\n",
    "output_data = np.asarray(output_data[1:]).astype(float)\n",
    "\n",
    "em_pivot = output_data[0, :]\n",
    "opt_pivot = output_data[1, :]\n",
    "output_data = output_data[2:]"
   ]
  },
  {
   "cell_type": "code",
   "execution_count": 35,
   "metadata": {},
   "outputs": [
    {
     "data": {
      "text/plain": [
       "(216, 3)"
      ]
     },
     "execution_count": 35,
     "metadata": {},
     "output_type": "execute_result"
    }
   ],
   "source": [
    "output_data.shape"
   ]
  },
  {
   "cell_type": "code",
   "execution_count": 31,
   "metadata": {},
   "outputs": [
    {
     "data": {
      "text/plain": [
       "24755.593170301545"
      ]
     },
     "execution_count": 31,
     "metadata": {},
     "output_type": "execute_result"
    }
   ],
   "source": [
    "\n",
    "np.average(output_data)\n",
    "np.var(output_data.reshape(output_data.shape[0] * output_data.shape[1]))"
   ]
  },
  {
   "cell_type": "code",
   "execution_count": 34,
   "metadata": {},
   "outputs": [
    {
     "data": {
      "text/plain": [
       "(648,)"
      ]
     },
     "execution_count": 34,
     "metadata": {},
     "output_type": "execute_result"
    }
   ],
   "source": [
    "output_data.reshape(output_data.shape[0] * output_data.shape[1]).shape"
   ]
  }
 ],
 "metadata": {
  "interpreter": {
   "hash": "794c73c8f7a8901446f751d3bdba43ff812b024dcff93e74cd8a53244f197196"
  },
  "kernelspec": {
   "display_name": "Python 3.9.7 64-bit ('CIS': conda)",
   "name": "python3"
  },
  "language_info": {
   "codemirror_mode": {
    "name": "ipython",
    "version": 3
   },
   "file_extension": ".py",
   "mimetype": "text/x-python",
   "name": "python",
   "nbconvert_exporter": "python",
   "pygments_lexer": "ipython3",
   "version": "3.9.7"
  },
  "orig_nbformat": 4
 },
 "nbformat": 4,
 "nbformat_minor": 2
}
