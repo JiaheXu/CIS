{
 "cells": [
  {
   "cell_type": "code",
   "execution_count": 1,
   "id": "8fb531b1",
   "metadata": {},
   "outputs": [],
   "source": [
    "import glob\n",
    "import numpy as np\n",
    "import cartesian\n",
    "import lsq_transform\n",
    "import pivot_calibration"
   ]
  },
  {
   "cell_type": "code",
   "execution_count": 2,
   "id": "cd8f03af",
   "metadata": {},
   "outputs": [],
   "source": [
    "runtype = 0\n",
    "run = 5\n",
    "if True:\n",
    "    letters = ['a', 'b', 'c', 'd', 'e', 'f', 'g', 'h', 'i', 'j', 'k']\n",
    "    type = ['debug', 'unknown']\n",
    "    data_dir = \"DATA/\"\n",
    "\n",
    "    # File IO\n",
    "    empivot = glob.glob(data_dir + 'pa1-' + type[runtype] + '-' + letters[run] + '-empivot.txt')\n",
    "    empivot_file = open(empivot[0], \"r\")\n",
    "    empivot_lines = empivot_file.read().splitlines()\n",
    "    empivot_data = []\n",
    "    for num in range(len(empivot_lines)):\n",
    "        empivot_data.append( empivot_lines[num].split(',') )\n",
    "        for i in range(len(empivot_data[-1])):\n",
    "            empivot_data[-1][i] = empivot_data[-1][i].strip()\n",
    "\n",
    "    Ng = int(empivot_data[0][0])\n",
    "    Nframes = int(empivot_data[0][1])\n",
    "    empivot_data = np.asarray(empivot_data[1:]).astype(float)\n",
    "    \n",
    "    # Use the first “frame” of pivot calibration data to define a local “probe” coordinate system\n",
    "    G = empivot_data[ : Ng , : ]\n",
    "    G0 = np.sum(G, axis=0)/Ng\n",
    "    g = G - G0\n",
    "    \n",
    "    G_stack = np.zeros(1)\n",
    "    p_stack = np.zeros(1)"
   ]
  },
  {
   "cell_type": "code",
   "execution_count": 3,
   "id": "f710d767",
   "metadata": {},
   "outputs": [
    {
     "name": "stdout",
     "output_type": "stream",
     "text": [
      "Nd :  6\n",
      "Nd :  12\n"
     ]
    }
   ],
   "source": [
    "print(\"Nd : \",Ng)\n",
    "print(\"Nd : \",Nframes)"
   ]
  },
  {
   "cell_type": "code",
   "execution_count": 4,
   "id": "56d7d083",
   "metadata": {},
   "outputs": [],
   "source": [
    "Rotation = np.zeros((3,3))\n",
    "Translation = np.zeros((3,1))\n",
    "Transform = []\n",
    "for i in range(Nframes):\n",
    "        G = empivot_data[ i*Ng : (i+1)*Ng , : ]\n",
    "        F = lsq_transform.get_lsq_transform( g , G )\n",
    "        Transform.append(F)\n",
    "        \n",
    "        rotation = F[0:3,0:3]\n",
    "        #print( rotation.shape )\n",
    "        Rotation = np.vstack( ( Rotation , rotation ) )\n",
    "        #Translation .append()\n",
    "        # need to save all those data and applied hw3 Q1C\n",
    "        translation = F[ 0:3 , 3 ]\n",
    "        Translation = np.vstack( ( Translation , translation.reshape(3,1) ) )\n"
   ]
  },
  {
   "cell_type": "code",
   "execution_count": 5,
   "id": "8ff7abe3",
   "metadata": {},
   "outputs": [],
   "source": [
    "Transform = np.asarray( Transform ).astype(float)"
   ]
  },
  {
   "cell_type": "code",
   "execution_count": 6,
   "id": "72eea328",
   "metadata": {},
   "outputs": [],
   "source": [
    "Rotation = Rotation[3:]"
   ]
  },
  {
   "cell_type": "code",
   "execution_count": 7,
   "id": "b8b91103",
   "metadata": {},
   "outputs": [
    {
     "data": {
      "text/plain": [
       "(36, 3)"
      ]
     },
     "execution_count": 7,
     "metadata": {},
     "output_type": "execute_result"
    }
   ],
   "source": [
    "Rotation.shape"
   ]
  },
  {
   "cell_type": "code",
   "execution_count": 8,
   "id": "689513eb",
   "metadata": {},
   "outputs": [],
   "source": [
    "Translation = Translation[3:]"
   ]
  },
  {
   "cell_type": "code",
   "execution_count": 9,
   "id": "870c5636",
   "metadata": {},
   "outputs": [
    {
     "data": {
      "text/plain": [
       "(36, 1)"
      ]
     },
     "execution_count": 9,
     "metadata": {},
     "output_type": "execute_result"
    }
   ],
   "source": [
    "Translation.shape"
   ]
  },
  {
   "cell_type": "code",
   "execution_count": 10,
   "id": "b22dfd4c",
   "metadata": {},
   "outputs": [],
   "source": [
    "n = (Rotation.shape)[0] // 3\n",
    "right_half = -1 * np.eye(3)\n",
    "for i in range(n-1):\n",
    "    right_half = np.vstack( ( right_half , -1 * np.eye(3) ) )"
   ]
  },
  {
   "cell_type": "code",
   "execution_count": 11,
   "id": "76c07b8f",
   "metadata": {},
   "outputs": [
    {
     "data": {
      "text/plain": [
       "(36, 3)"
      ]
     },
     "execution_count": 11,
     "metadata": {},
     "output_type": "execute_result"
    }
   ],
   "source": [
    "right_half.shape"
   ]
  },
  {
   "cell_type": "code",
   "execution_count": 12,
   "id": "21aebb72",
   "metadata": {},
   "outputs": [],
   "source": [
    "A = np.concatenate((Rotation,right_half),1)"
   ]
  },
  {
   "cell_type": "code",
   "execution_count": 13,
   "id": "69ea6cc0",
   "metadata": {},
   "outputs": [
    {
     "data": {
      "text/plain": [
       "(36, 6)"
      ]
     },
     "execution_count": 13,
     "metadata": {},
     "output_type": "execute_result"
    }
   ],
   "source": [
    "A.shape"
   ]
  },
  {
   "cell_type": "code",
   "execution_count": 14,
   "id": "44212afd",
   "metadata": {},
   "outputs": [
    {
     "data": {
      "text/plain": [
       "array([[ -32.11230755],\n",
       "       [  54.51702493],\n",
       "       [  79.88695912],\n",
       "       [-209.7933234 ],\n",
       "       [-201.55334027],\n",
       "       [-199.53958457]])"
      ]
     },
     "execution_count": 14,
     "metadata": {},
     "output_type": "execute_result"
    }
   ],
   "source": [
    "pivot_calibration.pivot_calibration( Rotation , Translation )"
   ]
  },
  {
   "cell_type": "code",
   "execution_count": null,
   "id": "974281d2",
   "metadata": {},
   "outputs": [],
   "source": []
  }
 ],
 "metadata": {
  "interpreter": {
   "hash": "8b05d36a51d5b138741486e99b99860feed499a26db1fe4e5b921224bbf7548c"
  },
  "kernelspec": {
   "display_name": "Python 3.9.7 64-bit ('default': conda)",
   "name": "python3"
  },
  "language_info": {
   "codemirror_mode": {
    "name": "ipython",
    "version": 3
   },
   "file_extension": ".py",
   "mimetype": "text/x-python",
   "name": "python",
   "nbconvert_exporter": "python",
   "pygments_lexer": "ipython3",
   "version": "3.9.7"
  }
 },
 "nbformat": 4,
 "nbformat_minor": 5
}
