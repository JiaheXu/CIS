{
 "cells": [
  {
   "cell_type": "code",
   "execution_count": 1,
   "metadata": {},
   "outputs": [],
   "source": [
    "import numpy as np\n",
    "import glob\n",
    "from distort_calibration import *\n",
    "from cartesian import*\n",
    "from registration_3d import*\n",
    "from optical_tracking import*\n",
    "from em_tracking import *\n",
    "from eval import *\n",
    "from pathlib import Path\n",
    "import argparse\n",
    "from scipy.interpolate import BPoly\n",
    "from distort_calibration import *\n",
    "from distortion_correction import *\n"
   ]
  },
  {
   "cell_type": "code",
   "execution_count": 2,
   "metadata": {},
   "outputs": [
    {
     "ename": "SyntaxError",
     "evalue": "invalid character in identifier (<ipython-input-2-c990fd5d432d>, line 22)",
     "output_type": "error",
     "traceback": [
      "\u001b[1;36m  File \u001b[1;32m\"<ipython-input-2-c990fd5d432d>\"\u001b[1;36m, line \u001b[1;32m22\u001b[0m\n\u001b[1;33m    C_exp, Nc, Nframes = distort_calibration( data_dir ，pa, type[data_type] , letters[letter]  , output = 0 )\u001b[0m\n\u001b[1;37m                                                         ^\u001b[0m\n\u001b[1;31mSyntaxError\u001b[0m\u001b[1;31m:\u001b[0m invalid character in identifier\n"
     ]
    }
   ],
   "source": [
    "data_type = 0\n",
    "letter = 0\n",
    "data_dir = 'DATA/'\n",
    "letters = ['a', 'b', 'c', 'd', 'e', 'f', 'g', 'h', 'i', 'j', 'k']\n",
    "type = ['debug', 'unknown']\n",
    "pa='pa2'\n",
    "output_path = glob.glob(data_dir + 'pa2-' + type[data_type] + '-' + letters[letter] + '-output1.txt')\n",
    "output_data = []\n",
    "read_file = open(output_path[0], mode='r')\n",
    "lines = read_file.read().splitlines()\n",
    "for num in range(len(lines)):\n",
    "    output_data.append( lines[num].split(',') )\n",
    "    for i in range(len(output_data[-1])):\n",
    "        output_data[-1][i] = output_data[-1][i].strip()\n",
    "Nc = int(output_data[0][0])\n",
    "Nframes = int(output_data[0][1])\n",
    "print(Nc, Nframes)\n",
    "output_name = output_data[0][2]\n",
    "output_data = np.asarray(output_data[3:]).astype(float)\n",
    "print(output_data.shape)\n",
    "\n",
    "C_exp, Nc, Nframes ,C= distort_calibration( data_dir ，pa, type[data_type] , letters[letter]  , output = 0 )\n",
    "\n",
    "print(C_exp.shape, Nc, Nframes)\n",
    "X, qmin, qmax = distortion_correction(C_exp,pa, output_data, order=5)\n",
    "print(X, qmin, qmax)\n",
    "# print(np.sum(C_exp - output_data))\n",
    "\n",
    "# print(empivot_data)\n",
    "# print(output_data)"
   ]
  },
  {
   "cell_type": "code",
   "execution_count": null,
   "metadata": {},
   "outputs": [],
   "source": [
    "empivot = glob.glob(data_dir + 'pa2-' + type[data_type] + '-' + letters[letter] + '-empivot.txt')\n",
    "    # print(empivot)\n",
    "\n",
    "empivot_file = open(empivot[0], \"r\")\n",
    "empivot_lines = empivot_file.read().splitlines()\n",
    "empivot_data = []\n",
    "for num in range(len(empivot_lines)):\n",
    "    empivot_data.append( empivot_lines[num].split(',') )\n",
    "    for i in range(len(empivot_data[-1])):\n",
    "        empivot_data[-1][i] = empivot_data[-1][i].strip()\n",
    "\n",
    "Ng = int(empivot_data[0][0])\n",
    "Nframes = int(empivot_data[0][1])\n",
    "empivot_data = np.asarray(empivot_data[1:]).astype(float)\n",
    "print(Nframes)\n",
    "print(empivot_data.shape)\n",
    "print(Ng)"
   ]
  },
  {
   "cell_type": "code",
   "execution_count": null,
   "metadata": {},
   "outputs": [],
   "source": [
    "empivot_corrected = []\n",
    "for i in range(Nframes):\n",
    "    if i == 0:\n",
    "        B_mat = generate_berntensor(empivot_data[i*Ng:(i+1) * Ng, :], qmin, qmax, 5)\n",
    "        empivot_corrected = B_mat @ X\n",
    "        # print(empivot_corrected)\n",
    "    else:\n",
    "        B_mat = generate_berntensor(empivot_data[i*Ng:(i+1) * Ng, :], qmin, qmax, 5)\n",
    "        tmp_cor = B_mat @ X\n",
    "        empivot_corrected = np.concatenate((empivot_corrected, tmp_cor), 0)"
   ]
  },
  {
   "cell_type": "code",
   "execution_count": null,
   "metadata": {},
   "outputs": [],
   "source": [
    "print(C_exp.shape)"
   ]
  },
  {
   "cell_type": "code",
   "execution_count": null,
   "metadata": {},
   "outputs": [],
   "source": [
    "X.shape"
   ]
  },
  {
   "cell_type": "code",
   "execution_count": null,
   "metadata": {},
   "outputs": [],
   "source": [
    "empivot_corrected"
   ]
  },
  {
   "cell_type": "code",
   "execution_count": null,
   "metadata": {},
   "outputs": [],
   "source": [
    "empivot_data"
   ]
  },
  {
   "cell_type": "code",
   "execution_count": null,
   "metadata": {},
   "outputs": [],
   "source": [
    "np.sum(np.abs(empivot_corrected - empivot_data))"
   ]
  },
  {
   "cell_type": "code",
   "execution_count": null,
   "metadata": {},
   "outputs": [],
   "source": [
    "np.abs(empivot_corrected - empivot_data)"
   ]
  }
 ],
 "metadata": {
  "interpreter": {
   "hash": "794c73c8f7a8901446f751d3bdba43ff812b024dcff93e74cd8a53244f197196"
  },
  "kernelspec": {
   "display_name": "Python 3",
   "language": "python",
   "name": "python3"
  },
  "language_info": {
   "codemirror_mode": {
    "name": "ipython",
    "version": 3
   },
   "file_extension": ".py",
   "mimetype": "text/x-python",
   "name": "python",
   "nbconvert_exporter": "python",
   "pygments_lexer": "ipython3",
   "version": "3.8.5"
  }
 },
 "nbformat": 4,
 "nbformat_minor": 2
}
