{
 "cells": [
  {
   "cell_type": "code",
   "execution_count": 1,
   "id": "17f733a9",
   "metadata": {},
   "outputs": [],
   "source": [
    "import numpy as np\n",
    "import glob\n",
    "from distort_calibration import *\n",
    "from cartesian import*\n",
    "from registration_3d import*\n",
    "from optical_tracking import*\n",
    "from em_tracking import *\n",
    "from eval import *\n",
    "from pathlib import Path\n",
    "import argparse"
   ]
  },
  {
   "cell_type": "code",
   "execution_count": 2,
   "id": "be538d51",
   "metadata": {},
   "outputs": [],
   "source": [
    "from scipy.interpolate import BPoly"
   ]
  },
  {
   "cell_type": "code",
   "execution_count": 3,
   "id": "1b8ff59a",
   "metadata": {},
   "outputs": [],
   "source": [
    "# scale points to a box\n",
    "# X is a n*3 numpy matrix qmin and qmax are float values stand for lower and upper bound\n",
    "def scale_to_box( X, qmin, qmax ):\n",
    "\n",
    "    scale = np.abs( qmax - qmin )\n",
    "    \n",
    "    scaled_X = ( X - qmin ) / scale  # normalized input\n",
    "    \n",
    "    return scaled_X, qmin, qmax"
   ]
  },
  {
   "cell_type": "code",
   "execution_count": 4,
   "id": "4595ef79",
   "metadata": {},
   "outputs": [],
   "source": [
    "def generate_Bpoly_basis( order ):\n",
    "    \n",
    "    x_break = [0, 1]\n",
    "    basis = []\n",
    "    \n",
    "    for i in range( order + 1 ):\n",
    "        c =  np.zeros( (order + 1 , 1) )\n",
    "        c[i] = 1\n",
    "        basis.append( BPoly( c, x_break ) )\n",
    "\n",
    "    return basis"
   ]
  },
  {
   "cell_type": "code",
   "execution_count": 5,
   "id": "c16caf4b",
   "metadata": {},
   "outputs": [],
   "source": [
    "def generate_berntensor( points , qmin, qmax, order ):\n",
    "#Function to generatea tensor of the 3-D Bernstein functions where \n",
    "#F_ijk = b_i(x)*b_j(y)*b_k(z).\n",
    "\n",
    "    bern_basis = generate_Bpoly_basis( order )\n",
    "    \n",
    "    scaled_points = scale_to_box( points , qmin, qmax )[0]\n",
    "\n",
    "    scaled_x = scaled_points[:, 0].reshape( ( -1, 1 ) )\n",
    "    scaled_y = scaled_points[:, 1].reshape( ( -1, 1 ) )\n",
    "    scaled_z = scaled_points[:, 2].reshape( ( -1, 1 ) )\n",
    "    \n",
    "    bern_matrix = np.zeros( ( points.shape[0], ( order + 1 ) ** 3 ) ) # 3D\n",
    "    \n",
    "    for i in range( order + 1 ):\n",
    "        for j in range( order + 1 ):\n",
    "            for k in range( order + 1 ):\n",
    "                \n",
    "                #F_ijk dot product for each point since we are using *\n",
    "                F_ijk = ( bern_basis[i]( scaled_x ) ) * ( bern_basis[j]( scaled_y ) ) * ( bern_basis[k]( scaled_z ) )\n",
    "                #we need to change the shape from (k,1) to (k,)\n",
    "                F_ijk = F_ijk.reshape(-1,)\n",
    "                bern_matrix[:, i * ( order + 1 ) ** 2 + j * ( order + 1 ) + k] = F_ijk\n",
    "    \n",
    "    return bern_matrix"
   ]
  },
  {
   "cell_type": "code",
   "execution_count": 6,
   "id": "3ddc454a",
   "metadata": {},
   "outputs": [],
   "source": [
    "# X: The input parameters to be fit to Y\n",
    "# Y: The output parameters to be fit from X\n",
    "# order: The highest order we use in Bernstein polynomial\n",
    "def distortion_correction( x, y, order):\n",
    "\n",
    "    qmin = np.min( x )      \n",
    "    qmax = np.max( x )\n",
    "    #print(qmin)\n",
    "    #print(qmax)\n",
    "    Bern_Matrix = generate_berntensor( x, qmin, qmax, order )\n",
    "    \n",
    "    A = Bern_Matrix\n",
    "    B = y\n",
    "    \n",
    "    # AX = B\n",
    "    X = np.linalg.lstsq(A, B, rcond=None)[0]\n",
    "    print(\"AX-B max error: \",np.max(A@X-B))\n",
    "    return X, qmin, qmax"
   ]
  },
  {
   "cell_type": "code",
   "execution_count": 7,
   "id": "98f6e915",
   "metadata": {},
   "outputs": [],
   "source": [
    "# def main():\n",
    "if True:\n",
    "\n",
    "# sample names from DATA\n",
    "# pa1-debug-a-calbody\n",
    "# pa1-unknown-a-calreadings\n",
    "    runtype = 0\n",
    "    run = 2\n",
    "    letters = ['a', 'b', 'c', 'd', 'e', 'f', 'g', 'h', 'i', 'j', 'k']\n",
    "    type = ['debug', 'unknown']\n",
    "    data_dir = \"DATA/\"\n",
    "    pa = \"pa2-\"\n",
    "    # first read in Calbody (Nd, Na, Nc)\n",
    "    # then readings  (ND, NA, NC, nframes)\n",
    "    \n",
    "    # the last output determines whether to show the result in terminal\n",
    "    em_pivot = em_tracking( data_dir ,pa , type[runtype] , letters[run] , output = 0)\n",
    "    optical_pivot = optical_tracking( data_dir ,pa , type[runtype] , letters[run] , output = 0)\n",
    "\n",
    "    tmp_ce = distort_calibration( data_dir ,pa ,type[runtype] , letters[run] ,output = 0)\n",
    "    \n",
    "    C_exp = tmp_ce[0]\n",
    "    C = tmp_ce[3]\n",
    "    \n",
    "    Nc = tmp_ce[1]\n",
    "    Nframes = tmp_ce[2]\n",
    "    # print(optical_pivot.shape)\n",
    "    ep = np.transpose(em_pivot)\n",
    "    op = np.transpose(optical_pivot)\n",
    "    if(pa == \"pa1\"):\n",
    "        tmp = eval( data_dir , type[runtype] , letters[run] , C_exp, em_pivot, optical_pivot)\n",
    "        str_tmp = [str(float(x)) for x in tmp]\n",
    "        print(\"Average for difference of C_exp = \" + str_tmp[0])\n",
    "        print(\"Variance for difference of C_exp = \" + str_tmp[1])\n",
    "        print(\"Max for difference of C_exp = \" + str_tmp[2])\n",
    "        print(\"Min for difference of C_exp = \" + str_tmp[3])\n",
    "\n",
    "        print(\"Average for difference of em_pivot = \" + str_tmp[4])\n",
    "        print(\"Variance for difference of em_pivot = \" + str_tmp[5])\n",
    "        print(\"Max for difference of em_pivot = \" + str_tmp[6])\n",
    "        print(\"Min for difference of em_pivot = \" + str_tmp[7])\n",
    "\n",
    "        print(\"Average for difference of opt_pivot = \" + str_tmp[8])\n",
    "        print(\"Variance for difference of opt_pivot = \" + str_tmp[9])\n",
    "        print(\"Max for difference of opt_pivot = \" + str_tmp[10])\n",
    "        print(\"Min for difference of opt_pivot = \" + str_tmp[11])\n",
    "        output_name = data_dir\n",
    "    # print(em_pivot, optical_pivot)\n",
    "    # print(Nc, Nframes)"
   ]
  },
  {
   "cell_type": "code",
   "execution_count": 8,
   "id": "96fd0bb5",
   "metadata": {},
   "outputs": [
    {
     "data": {
      "text/plain": [
       "(3375, 3)"
      ]
     },
     "execution_count": 8,
     "metadata": {},
     "output_type": "execute_result"
    }
   ],
   "source": [
    "C_exp.shape"
   ]
  },
  {
   "cell_type": "code",
   "execution_count": 9,
   "id": "2f6bbb11",
   "metadata": {},
   "outputs": [
    {
     "data": {
      "text/plain": [
       "(3375, 3)"
      ]
     },
     "execution_count": 9,
     "metadata": {},
     "output_type": "execute_result"
    }
   ],
   "source": [
    "C.shape"
   ]
  },
  {
   "cell_type": "code",
   "execution_count": 10,
   "id": "9bae0d29",
   "metadata": {},
   "outputs": [
    {
     "name": "stdout",
     "output_type": "stream",
     "text": [
      "0.11466642644961667\n"
     ]
    }
   ],
   "source": [
    "coef, qmin, qmax = distortion_correction( C, C_exp, 5 ) # 5 is order"
   ]
  },
  {
   "cell_type": "code",
   "execution_count": 11,
   "id": "6f661a9a",
   "metadata": {},
   "outputs": [
    {
     "data": {
      "text/plain": [
       "(216, 3)"
      ]
     },
     "execution_count": 11,
     "metadata": {},
     "output_type": "execute_result"
    }
   ],
   "source": [
    "coef.shape"
   ]
  },
  {
   "cell_type": "code",
   "execution_count": null,
   "id": "dc0807ea",
   "metadata": {},
   "outputs": [],
   "source": []
  },
  {
   "cell_type": "code",
   "execution_count": null,
   "id": "2aa1a847",
   "metadata": {},
   "outputs": [],
   "source": []
  }
 ],
 "metadata": {
  "interpreter": {
   "hash": "794c73c8f7a8901446f751d3bdba43ff812b024dcff93e74cd8a53244f197196"
  },
  "kernelspec": {
   "display_name": "Python 3",
   "language": "python",
   "name": "python3"
  },
  "language_info": {
   "codemirror_mode": {
    "name": "ipython",
    "version": 3
   },
   "file_extension": ".py",
   "mimetype": "text/x-python",
   "name": "python",
   "nbconvert_exporter": "python",
   "pygments_lexer": "ipython3",
   "version": "3.8.5"
  }
 },
 "nbformat": 4,
 "nbformat_minor": 5
}
